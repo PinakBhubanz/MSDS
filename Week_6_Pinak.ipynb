{
 "cells": [
  {
   "cell_type": "code",
   "execution_count": null,
   "id": "61c8c481-50af-4fc7-a907-f59595f4d3a7",
   "metadata": {},
   "outputs": [],
   "source": [
    "import numpy as np\n",
    "import pandas as pd\n",
    "import matplotlib.pyplot as plt\n",
    "from sklearn.metrics.pairwise import cosine_similarity\n",
    "from scipy.spatial.distance import euclidean\n",
    "from scipy.spatial.distance import cosine\n",
    "ratings_df = pd.read_csv('/mnt/data/ratings.csv')\n",
    "movies_df = pd.read_csv('/mnt/data/movies.csv')\n",
    "\n"
   ]
  },
  {
   "cell_type": "markdown",
   "id": "6441cabe-566b-4ba7-9c33-213987060c1a",
   "metadata": {},
   "source": [
    "How many movies has this user watched?"
   ]
  },
  {
   "cell_type": "code",
   "execution_count": null,
   "id": "6ab52e94-289a-4aa8-93bb-ac648d8c40a8",
   "metadata": {},
   "outputs": [],
   "source": [
    "user_2_ratings = ratings_df[ratings_df['userId'] == 2]\n",
    "movies_watched_by_user_2 = user_2_ratings['movieId'].nunique()\n",
    "print(f\"User 2 has watched {movies_watched_by_user_2} unique movies.\")"
   ]
  },
  {
   "cell_type": "markdown",
   "id": "fde8e996-a2c8-4d0f-a5fc-8511043acdec",
   "metadata": {},
   "source": [
    "Plot a bar chart of user 2's ratings"
   ]
  },
  {
   "cell_type": "code",
   "execution_count": null,
   "id": "dd27d8b7-cc43-4212-9b47-f6147eeb8206",
   "metadata": {},
   "outputs": [],
   "source": [
    "rating_counts = user_2_ratings['rating'].value_counts().sort_index()\n",
    "plt.figure(figsize=(8, 6))\n",
    "rating_counts.plot(kind='bar', color='skyblue')\n",
    "plt.title(\"User 2's Movie Ratings Distribution\")\n",
    "plt.xlabel('Rating')\n",
    "plt.ylabel('Count of Ratings')\n",
    "plt.xticks(rotation=0)\n",
    "plt.grid(axis='y')\n",
    "plt.show()"
   ]
  },
  {
   "cell_type": "markdown",
   "id": "f267a9bf-5e04-40d2-a74c-2d2101016a2e",
   "metadata": {},
   "source": [
    "user 2's top-rated movies"
   ]
  },
  {
   "cell_type": "code",
   "execution_count": null,
   "id": "6c8baf3d-aa7b-4a05-b62b-6ff5132c5cbd",
   "metadata": {},
   "outputs": [],
   "source": [
    "user_2_top_movies = pd.merge(user_2_ratings, movies_df, on='movieId')\n",
    "top_movies = user_2_top_movies.sort_values(by='rating', ascending=False)\n",
    "top_movies_list = top_movies[['title', 'rating']].head(10)\n",
    "print(\"User 2's Top-Rated Movies:\")\n",
    "print(top_movies_list)"
   ]
  },
  {
   "cell_type": "markdown",
   "id": "a9d2d98f-3b7a-492b-b883-1a5dc3a89014",
   "metadata": {},
   "source": [
    " Identify the most similar user to user 2 using Euclidean distance and cosine similarity"
   ]
  },
  {
   "cell_type": "code",
   "execution_count": null,
   "id": "e2d11912-4f42-4252-b6c8-82776417bb8b",
   "metadata": {},
   "outputs": [],
   "source": [
    "user_movie_matrix = ratings_df.pivot(index='userId', columns='movieId', values='rating').fillna(0)\n",
    "user_2_vector = user_movie_matrix.loc[2].values.reshape(1, -1)\n",
    "cosine_similarities = cosine_similarity(user_movie_matrix, user_2_vector).flatten()\n",
    "euclidean_distances = user_movie_matrix.apply(lambda x: euclidean(x, user_2_vector.flatten()), axis=1)\n",
    "most_similar_user_cosine = cosine_similarities.argsort()[-2] + 1 \n",
    "most_similar_user_euclidean = euclidean_distances.sort_values().index[1]\n",
    "print(f\"Most similar user to User 2 based on Cosine Similarity: User {most_similar_user_cosine}\")\n",
    "print(f\"Most similar user to User 2 based on Euclidean Distance: User {most_similar_user_euclidean}\")\n",
    "plt.figure(figsize=(10, 6))\n",
    "\n"
   ]
  },
  {
   "cell_type": "markdown",
   "id": "e2272aae-035d-49ef-848b-92ca4ad4c29e",
   "metadata": {},
   "source": [
    "Plot cosine similarity values"
   ]
  },
  {
   "cell_type": "code",
   "execution_count": null,
   "id": "d4826652-368a-4aab-8bdd-eb62dfe9a7cc",
   "metadata": {},
   "outputs": [],
   "source": [
    "plt.subplot(1, 2, 1)\n",
    "plt.scatter(range(len(cosine_similarities)), cosine_similarities, color='blue', label='Cosine Similarity')\n",
    "plt.axvline(x=most_similar_user_cosine, color='red', linestyle='--', label=f'Most Similar User: {most_similar_user_cosine}')\n",
    "plt.title('Cosine Similarity with User 2')\n",
    "plt.xlabel('User ID')\n",
    "plt.ylabel('Similarity')\n",
    "plt.legend()\n",
    "plt.subplot(1, 2, 2)\n",
    "plt.scatter(range(len(euclidean_distances)), euclidean_distances, color='green', label='Euclidean Distance')\n",
    "plt.axvline(x=most_similar_user_euclidean, color='red', linestyle='--', label=f'Most Similar User: {most_similar_user_euclidean}')\n",
    "plt.title('Euclidean Distance from User 2')\n",
    "plt.xlabel('User ID')\n",
    "plt.ylabel('Distance')\n",
    "plt.legend()\n",
    "plt.tight_layout()\n",
    "plt.show()"
   ]
  },
  {
   "cell_type": "markdown",
   "id": "e1b56f53-a6e0-49de-8251-d6decee16f03",
   "metadata": {},
   "source": [
    "Recommend movies for user 2 based on similar users"
   ]
  },
  {
   "cell_type": "code",
   "execution_count": null,
   "id": "08edb531-3383-478e-a3ec-6782597770ec",
   "metadata": {},
   "outputs": [],
   "source": [
    "movies_watched_by_user_366 = set(ratings_df[ratings_df['userId'] == 366]['movieId'])\n",
    "movies_watched_by_user_442 = set(ratings_df[ratings_df['userId'] == 442]['movieId'])\n",
    "recommended_movies_list_366 = movies_df[movies_df['movieId'].isin(recommended_movies_user_366)]['title'].head(10).tolist()\n",
    "recommended_movies_list_442 = movies_df[movies_df['movieId'].isin(recommended_movies_user_442)]['title'].head(10).tolist()\n",
    "print(\"Recommendations for User 2 based on similarity with User 366 (Cosine Similarity):\")\n",
    "print(recommended_movies_list_366)\n",
    "print(\"\\nRecommendations for User 2 based on similarity with User 442 (Euclidean Distance):\")\n",
    "print(recommended_movies_list_442)\n",
    "\n"
   ]
  },
  {
   "cell_type": "markdown",
   "id": "912bfe4c-b40f-4c00-89d3-fa29fd177f7b",
   "metadata": {},
   "source": [
    "Do the recommendations from this method make sense?"
   ]
  },
  {
   "cell_type": "code",
   "execution_count": null,
   "id": "62b8cf63-f2ba-44e4-ac2a-96b28fada893",
   "metadata": {},
   "outputs": [],
   "source": [
    "The recommendations based on cosine similarity (user 366) seem to align more closely with user 2's preferences. These movies, like \"Braveheart\" and \"Fight Club,\" are action-packed and intense, similar to user 2's highly rated films such as \"Mad Max: Fury Road\" and \"The Dark Knight.\" This indicates that user 366 has similar taste in genres, making these recommendations reasonable.\n",
    "\n",
    "On the other hand, the recommendations based on Euclidean distance (user 442) include a broader range of genres, such as classics (\"Patton\"), animation (\"Aristocats\"), and romance/drama (\"Dangerous Liaisons\"). These do not seem to align as well with user 2's preference for intense, dramatic, or action-oriented films. Thus, the Euclidean distance recommendations are less suitable for user 2's tastes."
   ]
  },
  {
   "cell_type": "markdown",
   "id": "fe4a0630-823b-4ed7-8425-bd98524a4603",
   "metadata": {},
   "source": [
    "Short Analysis"
   ]
  },
  {
   "cell_type": "code",
   "execution_count": null,
   "id": "fd433564-8170-44a0-bbb0-1c62f09d6088",
   "metadata": {},
   "outputs": [],
   "source": [
    "Cosine similarity focuses on the angle between two users' rating vectors, capturing the similarity in their movie preferences irrespective of their rating scale. This metric was effective in identifying user 366 as the most similar to user 2, leading to recommendations that aligned well with user 2's taste. It demonstrated its strength in collaborative filtering by emphasizing shared preferences rather than differences in rating intensity.\n",
    "\n",
    "On the other hand, Euclidean distance, which measures the straight-line distance between rating points, was less effective. It tends to be sensitive to the magnitude of ratings, which led to recommendations that were less relevant to user 2's preferences. This metric suggested movies from diverse genres that did not align with user 2's history of favoring intense and dramatic films."
   ]
  },
  {
   "cell_type": "markdown",
   "id": "40b71ab9-1485-427f-8c7c-efc2959b0276",
   "metadata": {},
   "source": [
    "References\n",
    "OpenAI. (2024). ChatGPT (Oct 1 version) [Large language model]. https://chat.openai.com/chat"
   ]
  }
 ],
 "metadata": {
  "kernelspec": {
   "display_name": "Python 3 (ipykernel)",
   "language": "python",
   "name": "python3"
  },
  "language_info": {
   "codemirror_mode": {
    "name": "ipython",
    "version": 3
   },
   "file_extension": ".py",
   "mimetype": "text/x-python",
   "name": "python",
   "nbconvert_exporter": "python",
   "pygments_lexer": "ipython3",
   "version": "3.12.4"
  }
 },
 "nbformat": 4,
 "nbformat_minor": 5
}
